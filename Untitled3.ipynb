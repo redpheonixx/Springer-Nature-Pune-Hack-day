{
 "cells": [
  {
   "cell_type": "code",
   "execution_count": 1,
   "metadata": {
    "colab": {
     "base_uri": "https://localhost:8080/",
     "height": 34
    },
    "colab_type": "code",
    "id": "gSbuSPFFdSkn",
    "outputId": "2db8f527-37ec-4054-d079-ff24557ab9b7"
   },
   "outputs": [
    {
     "name": "stderr",
     "output_type": "stream",
     "text": [
      "Using TensorFlow backend.\n"
     ]
    }
   ],
   "source": [
    "from keras import applications\n",
    "from keras.preprocessing.image import ImageDataGenerator\n",
    "from keras import optimizers\n",
    "from keras.models import Sequential, Model \n",
    "from keras.layers import Dropout, Flatten, Dense, GlobalAveragePooling2D\n",
    "from keras import backend as k \n",
    "from keras.callbacks import ModelCheckpoint, LearningRateScheduler, TensorBoard, EarlyStopping"
   ]
  },
  {
   "cell_type": "code",
   "execution_count": 2,
   "metadata": {
    "colab": {
     "base_uri": "https://localhost:8080/",
     "height": 2327
    },
    "colab_type": "code",
    "id": "-MuR_cRVdefj",
    "outputId": "2020b5a3-aa3b-45d4-e9f9-5c8ca0f9c308"
   },
   "outputs": [
    {
     "name": "stdout",
     "output_type": "stream",
     "text": [
      "Preconfiguring packages ...\n",
      "Selecting previously unselected package cron.\n",
      "(Reading database ... 18408 files and directories currently installed.)\n",
      "Preparing to unpack .../00-cron_3.0pl1-128ubuntu5_amd64.deb ...\n",
      "Unpacking cron (3.0pl1-128ubuntu5) ...\n",
      "Selecting previously unselected package libapparmor1:amd64.\n",
      "Preparing to unpack .../01-libapparmor1_2.11.0-2ubuntu17.1_amd64.deb ...\n",
      "Unpacking libapparmor1:amd64 (2.11.0-2ubuntu17.1) ...\n",
      "Selecting previously unselected package libdbus-1-3:amd64.\n",
      "Preparing to unpack .../02-libdbus-1-3_1.10.22-1ubuntu1_amd64.deb ...\n",
      "Unpacking libdbus-1-3:amd64 (1.10.22-1ubuntu1) ...\n",
      "Selecting previously unselected package dbus.\n",
      "Preparing to unpack .../03-dbus_1.10.22-1ubuntu1_amd64.deb ...\n",
      "Unpacking dbus (1.10.22-1ubuntu1) ...\n",
      "Selecting previously unselected package dirmngr.\n",
      "Preparing to unpack .../04-dirmngr_2.1.15-1ubuntu8.1_amd64.deb ...\n",
      "Unpacking dirmngr (2.1.15-1ubuntu8.1) ...\n",
      "Selecting previously unselected package distro-info-data.\n",
      "Preparing to unpack .../05-distro-info-data_0.36ubuntu0.2_all.deb ...\n",
      "Unpacking distro-info-data (0.36ubuntu0.2) ...\n",
      "Selecting previously unselected package libkmod2:amd64.\n",
      "Preparing to unpack .../06-libkmod2_24-1ubuntu2_amd64.deb ...\n",
      "Unpacking libkmod2:amd64 (24-1ubuntu2) ...\n",
      "Selecting previously unselected package kmod.\n",
      "Preparing to unpack .../07-kmod_24-1ubuntu2_amd64.deb ...\n",
      "Unpacking kmod (24-1ubuntu2) ...\n",
      "Selecting previously unselected package lsb-release.\n",
      "Preparing to unpack .../08-lsb-release_9.20160110ubuntu5_all.deb ...\n",
      "Unpacking lsb-release (9.20160110ubuntu5) ...\n",
      "Selecting previously unselected package libgirepository-1.0-1:amd64.\n",
      "Preparing to unpack .../09-libgirepository-1.0-1_1.54.1-1_amd64.deb ...\n",
      "Unpacking libgirepository-1.0-1:amd64 (1.54.1-1) ...\n",
      "Selecting previously unselected package gir1.2-glib-2.0:amd64.\n",
      "Preparing to unpack .../10-gir1.2-glib-2.0_1.54.1-1_amd64.deb ...\n",
      "Unpacking gir1.2-glib-2.0:amd64 (1.54.1-1) ...\n",
      "Selecting previously unselected package iso-codes.\n",
      "Preparing to unpack .../11-iso-codes_3.75-1_all.deb ...\n",
      "Unpacking iso-codes (3.75-1) ...\n",
      "Selecting previously unselected package libdbus-glib-1-2:amd64.\n",
      "Preparing to unpack .../12-libdbus-glib-1-2_0.108-2_amd64.deb ...\n",
      "Unpacking libdbus-glib-1-2:amd64 (0.108-2) ...\n",
      "Selecting previously unselected package python-apt-common.\n",
      "Preparing to unpack .../13-python-apt-common_1.4.0~beta3build2_all.deb ...\n",
      "Unpacking python-apt-common (1.4.0~beta3build2) ...\n",
      "Selecting previously unselected package python3-apt.\n",
      "Preparing to unpack .../14-python3-apt_1.4.0~beta3build2_amd64.deb ...\n",
      "Unpacking python3-apt (1.4.0~beta3build2) ...\n",
      "Selecting previously unselected package python3-dbus.\n",
      "Preparing to unpack .../15-python3-dbus_1.2.4-1build3_amd64.deb ...\n",
      "Unpacking python3-dbus (1.2.4-1build3) ...\n",
      "Selecting previously unselected package python3-gi.\n",
      "Preparing to unpack .../16-python3-gi_3.24.1-2build1_amd64.deb ...\n",
      "Unpacking python3-gi (3.24.1-2build1) ...\n",
      "Selecting previously unselected package module-init-tools.\n",
      "Preparing to unpack .../17-module-init-tools_24-1ubuntu2_all.deb ...\n",
      "Unpacking module-init-tools (24-1ubuntu2) ...\n",
      "Selecting previously unselected package python-apt.\n",
      "Preparing to unpack .../18-python-apt_1.4.0~beta3build2_amd64.deb ...\n",
      "Unpacking python-apt (1.4.0~beta3build2) ...\n",
      "Selecting previously unselected package python-pycurl.\n",
      "Preparing to unpack .../19-python-pycurl_7.43.0-2build2_amd64.deb ...\n",
      "Unpacking python-pycurl (7.43.0-2build2) ...\n",
      "Selecting previously unselected package python-software-properties.\n",
      "Preparing to unpack .../20-python-software-properties_0.96.24.17_all.deb ...\n",
      "Unpacking python-software-properties (0.96.24.17) ...\n",
      "Selecting previously unselected package python3-software-properties.\n",
      "Preparing to unpack .../21-python3-software-properties_0.96.24.17_all.deb ...\n",
      "Unpacking python3-software-properties (0.96.24.17) ...\n",
      "Selecting previously unselected package software-properties-common.\n",
      "Preparing to unpack .../22-software-properties-common_0.96.24.17_all.deb ...\n",
      "Unpacking software-properties-common (0.96.24.17) ...\n",
      "Selecting previously unselected package unattended-upgrades.\n",
      "Preparing to unpack .../23-unattended-upgrades_0.98ubuntu1.1_all.deb ...\n",
      "Unpacking unattended-upgrades (0.98ubuntu1.1) ...\n",
      "Setting up python-apt-common (1.4.0~beta3build2) ...\n",
      "Setting up python3-apt (1.4.0~beta3build2) ...\n",
      "Setting up iso-codes (3.75-1) ...\n",
      "Setting up distro-info-data (0.36ubuntu0.2) ...\n",
      "Setting up python-pycurl (7.43.0-2build2) ...\n",
      "Setting up lsb-release (9.20160110ubuntu5) ...\n",
      "Setting up libgirepository-1.0-1:amd64 (1.54.1-1) ...\n",
      "Setting up libkmod2:amd64 (24-1ubuntu2) ...\n",
      "Setting up gir1.2-glib-2.0:amd64 (1.54.1-1) ...\n",
      "Processing triggers for libc-bin (2.26-0ubuntu2.1) ...\n",
      "Setting up libapparmor1:amd64 (2.11.0-2ubuntu17.1) ...\n",
      "Setting up unattended-upgrades (0.98ubuntu1.1) ...\n",
      "\n",
      "Creating config file /etc/apt/apt.conf.d/20auto-upgrades with new version\n",
      "\n",
      "Creating config file /etc/apt/apt.conf.d/50unattended-upgrades with new version\n",
      "invoke-rc.d: could not determine current runlevel\n",
      "invoke-rc.d: policy-rc.d denied execution of start.\n",
      "Setting up dirmngr (2.1.15-1ubuntu8.1) ...\n",
      "Setting up cron (3.0pl1-128ubuntu5) ...\n",
      "Adding group `crontab' (GID 102) ...\n",
      "Done.\n",
      "update-rc.d: warning: start and stop actions are no longer supported; falling back to defaults\n",
      "update-rc.d: warning: stop runlevel arguments (1) do not match cron Default-Stop values (none)\n",
      "invoke-rc.d: could not determine current runlevel\n",
      "invoke-rc.d: policy-rc.d denied execution of start.\n",
      "Setting up libdbus-1-3:amd64 (1.10.22-1ubuntu1) ...\n",
      "Setting up kmod (24-1ubuntu2) ...\n",
      "Setting up libdbus-glib-1-2:amd64 (0.108-2) ...\n",
      "Setting up python3-gi (3.24.1-2build1) ...\n",
      "Setting up module-init-tools (24-1ubuntu2) ...\n",
      "Setting up python3-software-properties (0.96.24.17) ...\n",
      "Setting up dbus (1.10.22-1ubuntu1) ...\n",
      "Setting up python-apt (1.4.0~beta3build2) ...\n",
      "Setting up python3-dbus (1.2.4-1build3) ...\n",
      "Setting up python-software-properties (0.96.24.17) ...\n",
      "Setting up software-properties-common (0.96.24.17) ...\n",
      "Processing triggers for libc-bin (2.26-0ubuntu2.1) ...\n",
      "Processing triggers for dbus (1.10.22-1ubuntu1) ...\n",
      "gpg: keybox '/tmp/tmpsp3pivna/pubring.gpg' created\n",
      "gpg: /tmp/tmpsp3pivna/trustdb.gpg: trustdb created\n",
      "gpg: key AD5F235DF639B041: public key \"Launchpad PPA for Alessandro Strada\" imported\n",
      "gpg: Total number processed: 1\n",
      "gpg:               imported: 1\n",
      "Warning: apt-key output should not be parsed (stdout is not a terminal)\n",
      "Selecting previously unselected package libfuse2:amd64.\n",
      "(Reading database ... 19816 files and directories currently installed.)\n",
      "Preparing to unpack .../libfuse2_2.9.7-1ubuntu1_amd64.deb ...\n",
      "Unpacking libfuse2:amd64 (2.9.7-1ubuntu1) ...\n",
      "Selecting previously unselected package fuse.\n",
      "Preparing to unpack .../fuse_2.9.7-1ubuntu1_amd64.deb ...\n",
      "Unpacking fuse (2.9.7-1ubuntu1) ...\n",
      "Selecting previously unselected package google-drive-ocamlfuse.\n",
      "Preparing to unpack .../google-drive-ocamlfuse_0.6.21-0ubuntu2_amd64.deb ...\n",
      "Unpacking google-drive-ocamlfuse (0.6.21-0ubuntu2) ...\n",
      "Setting up libfuse2:amd64 (2.9.7-1ubuntu1) ...\n",
      "Processing triggers for libc-bin (2.26-0ubuntu2.1) ...\n",
      "Setting up fuse (2.9.7-1ubuntu1) ...\n",
      "Setting up google-drive-ocamlfuse (0.6.21-0ubuntu2) ...\n"
     ]
    }
   ],
   "source": [
    "!apt-get update -qq 2>&1 > /dev/null\n",
    "!apt-get install -y -qq software-properties-common python-software-properties module-init-tools\n",
    "!add-apt-repository -y ppa:alessandro-strada/ppa 2>&1 > /dev/null\n",
    "!apt-get update -qq 2>&1 > /dev/null\n",
    "!apt-get -y install -qq google-drive-ocamlfuse fuse"
   ]
  },
  {
   "cell_type": "code",
   "execution_count": 0,
   "metadata": {
    "colab": {},
    "colab_type": "code",
    "collapsed": true,
    "id": "cY5LUxSWdxFa"
   },
   "outputs": [],
   "source": [
    "# Generate auth tokens for Colab\n",
    "from google.colab import auth\n",
    "auth.authenticate_user()"
   ]
  },
  {
   "cell_type": "code",
   "execution_count": 5,
   "metadata": {
    "colab": {
     "base_uri": "https://localhost:8080/",
     "height": 124
    },
    "colab_type": "code",
    "id": "d0Vdtq4ddxU3",
    "outputId": "10d6ccb4-d531-4f55-837c-dabca8b2e393"
   },
   "outputs": [
    {
     "name": "stdout",
     "output_type": "stream",
     "text": [
      "Please, open the following URL in a web browser: https://accounts.google.com/o/oauth2/auth?client_id=32555940559.apps.googleusercontent.com&redirect_uri=urn%3Aietf%3Awg%3Aoauth%3A2.0%3Aoob&scope=https%3A%2F%2Fwww.googleapis.com%2Fauth%2Fdrive&response_type=code&access_type=offline&approval_prompt=force\n",
      "\n",
      "Enter verification code: ··········\n",
      "Please, open the following URL in a web browser: https://accounts.google.com/o/oauth2/auth?client_id=32555940559.apps.googleusercontent.com&redirect_uri=urn%3Aietf%3Awg%3Aoauth%3A2.0%3Aoob&scope=https%3A%2F%2Fwww.googleapis.com%2Fauth%2Fdrive&response_type=code&access_type=offline&approval_prompt=force\n",
      "Please enter the verification code: Access token retrieved correctly.\n"
     ]
    }
   ],
   "source": [
    "from oauth2client.client import GoogleCredentials\n",
    "creds = GoogleCredentials.get_application_default()\n",
    "import getpass\n",
    "# Work around misordering of STREAM and STDIN in Jupyter.\n",
    "# https://github.com/jupyter/notebook/issues/3159\n",
    "prompt = !google-drive-ocamlfuse -headless -id={creds.client_id} -secret={creds.client_secret} < /dev/null 2>&1 | grep URL\n",
    "vcode = getpass.getpass(prompt[0] + '\\n\\nEnter verification code: ')\n",
    "!echo {vcode} | google-drive-ocamlfuse -headless -id={creds.client_id} -secret={creds.client_secret}"
   ]
  },
  {
   "cell_type": "code",
   "execution_count": 0,
   "metadata": {
    "colab": {},
    "colab_type": "code",
    "collapsed": true,
    "id": "bqs4qWk2dxbP"
   },
   "outputs": [],
   "source": [
    "!mkdir -p drive\n",
    "\n",
    "!google-drive-ocamlfuse drive"
   ]
  },
  {
   "cell_type": "code",
   "execution_count": 7,
   "metadata": {
    "colab": {
     "base_uri": "https://localhost:8080/",
     "height": 52
    },
    "colab_type": "code",
    "id": "dzcI7FSCdxgi",
    "outputId": "6b1bb510-d6fb-4f53-e5c5-9e247caedf68"
   },
   "outputs": [
    {
     "name": "stdout",
     "output_type": "stream",
     "text": [
      "Downloading data from https://github.com/fchollet/deep-learning-models/releases/download/v0.1/vgg19_weights_tf_dim_ordering_tf_kernels_notop.h5\n",
      "80142336/80134624 [==============================] - 5s 0us/step\n"
     ]
    }
   ],
   "source": [
    "img_width, img_height = 256, 256\n",
    "model = applications.VGG19(weights = \"imagenet\", include_top=False, input_shape = (img_width, img_height, 3))"
   ]
  },
  {
   "cell_type": "code",
   "execution_count": 0,
   "metadata": {
    "colab": {},
    "colab_type": "code",
    "collapsed": true,
    "id": "MvIrUjkNd-vb"
   },
   "outputs": [],
   "source": [
    "img_width, img_height = 256, 256\n",
    "\n",
    "nb_train_samples = 216\n",
    "#nb_validation_samples = 135\n",
    "batch_size = 27\n",
    "epochs = 60"
   ]
  },
  {
   "cell_type": "code",
   "execution_count": 0,
   "metadata": {
    "colab": {},
    "colab_type": "code",
    "collapsed": true,
    "id": "xOf52SdDd-0t"
   },
   "outputs": [],
   "source": [
    "#freezing first five layer\n",
    "for layer in model.layers[:5]:\n",
    "    layer.trainable = False"
   ]
  },
  {
   "cell_type": "code",
   "execution_count": 0,
   "metadata": {
    "colab": {},
    "colab_type": "code",
    "collapsed": true,
    "id": "FtulX8Xmd-5Q"
   },
   "outputs": [],
   "source": [
    "#Adding custom layers\n",
    "x = model.output\n",
    "x = Flatten()(x)\n",
    "x = Dense(1024, activation=\"relu\")(x)\n",
    "x = Dropout(0.5)(x)\n",
    "x = Dense(1024, activation=\"relu\")(x)\n",
    "predictions = Dense(2, activation=\"softmax\")(x)"
   ]
  },
  {
   "cell_type": "code",
   "execution_count": 19,
   "metadata": {
    "colab": {
     "base_uri": "https://localhost:8080/",
     "height": 72
    },
    "colab_type": "code",
    "id": "EJ55NtBOd-8G",
    "outputId": "b7e3c333-b247-47fa-95c5-6ff55cd1a6b4"
   },
   "outputs": [
    {
     "name": "stderr",
     "output_type": "stream",
     "text": [
      "/usr/local/lib/python3.6/dist-packages/ipykernel_launcher.py:1: UserWarning: Update your `Model` call to the Keras 2 API: `Model(inputs=Tensor(\"in..., outputs=Tensor(\"de...)`\n",
      "  \"\"\"Entry point for launching an IPython kernel.\n"
     ]
    }
   ],
   "source": [
    "#Final model\n",
    "model_final = Model(input = model.input, output = predictions)"
   ]
  },
  {
   "cell_type": "code",
   "execution_count": 0,
   "metadata": {
    "colab": {},
    "colab_type": "code",
    "collapsed": true,
    "id": "Ma2S56eXePeg"
   },
   "outputs": [],
   "source": [
    "#compiling the model\n",
    "model_final.compile(loss = \"categorical_crossentropy\", optimizer = optimizers.SGD(lr=0.0001, momentum=0.9), metrics=[\"accuracy\"])"
   ]
  },
  {
   "cell_type": "code",
   "execution_count": 0,
   "metadata": {
    "colab": {},
    "colab_type": "code",
    "collapsed": true,
    "id": "-8hzN2DjeSaf"
   },
   "outputs": [],
   "source": [
    "train_data_dir = \"drive/Image_Processing/techgig_Dataset/Train\"\n",
    "#validation_data_dir = \"drive/dataset/validation\""
   ]
  },
  {
   "cell_type": "code",
   "execution_count": 15,
   "metadata": {
    "colab": {
     "base_uri": "https://localhost:8080/",
     "height": 54
    },
    "colab_type": "code",
    "id": "etsImVlfeTRE",
    "outputId": "7c5704c0-3054-4720-c5f2-85e3cddceb8d"
   },
   "outputs": [
    {
     "data": {
      "text/plain": [
       "'test_datagen = ImageDataGenerator(\\n\\nrescale = 1./255,\\n\\nhorizontal_flip = True,\\n\\nfill_mode = \"nearest\",\\n\\nzoom_range = 0.3,\\n\\nwidth_shift_range = 0.3,\\n\\nheight_shift_range=0.3,\\n\\nrotation_range=30)'"
      ]
     },
     "execution_count": 15,
     "metadata": {
      "tags": []
     },
     "output_type": "execute_result"
    }
   ],
   "source": [
    "\n",
    "\n",
    "train_datagen = ImageDataGenerator(\n",
    "\n",
    "rescale = 1./255,\n",
    "\n",
    "horizontal_flip = True,\n",
    "\n",
    "fill_mode = \"nearest\",\n",
    "\n",
    "zoom_range = 0.3,\n",
    "\n",
    "width_shift_range = 0.3,\n",
    "\n",
    "height_shift_range=0.3,\n",
    "\n",
    "rotation_range=30)\n",
    "\n",
    "\n",
    "\"\"\"test_datagen = ImageDataGenerator(\n",
    "\n",
    "rescale = 1./255,\n",
    "\n",
    "horizontal_flip = True,\n",
    "\n",
    "fill_mode = \"nearest\",\n",
    "\n",
    "zoom_range = 0.3,\n",
    "\n",
    "width_shift_range = 0.3,\n",
    "\n",
    "height_shift_range=0.3,\n",
    "\n",
    "rotation_range=30)\"\"\""
   ]
  },
  {
   "cell_type": "code",
   "execution_count": 16,
   "metadata": {
    "colab": {
     "base_uri": "https://localhost:8080/",
     "height": 34
    },
    "colab_type": "code",
    "id": "UqPwENZgeTNI",
    "outputId": "5cbb715c-3902-4e17-d45c-2df4de0ec165"
   },
   "outputs": [
    {
     "name": "stdout",
     "output_type": "stream",
     "text": [
      "Found 216 images belonging to 2 classes.\n"
     ]
    }
   ],
   "source": [
    "train_generator = train_datagen.flow_from_directory(\n",
    "train_data_dir,\n",
    "target_size = (img_height, img_width),\n",
    "batch_size = batch_size, \n",
    "class_mode = \"categorical\")"
   ]
  },
  {
   "cell_type": "code",
   "execution_count": 21,
   "metadata": {
    "colab": {
     "base_uri": "https://localhost:8080/",
     "height": 2173
    },
    "colab_type": "code",
    "id": "8cjE4yMJeeVL",
    "outputId": "9cb4c5b8-5f52-4232-9241-89c2e7edabf3"
   },
   "outputs": [
    {
     "name": "stderr",
     "output_type": "stream",
     "text": [
      "/usr/local/lib/python3.6/dist-packages/ipykernel_launcher.py:8: UserWarning: Update your `fit_generator` call to the Keras 2 API: `fit_generator(<keras.pre..., epochs=60, callbacks=None, steps_per_epoch=8)`\n",
      "  \n"
     ]
    },
    {
     "name": "stdout",
     "output_type": "stream",
     "text": [
      "Epoch 1/60\n",
      "8/8 [==============================] - 137s 17s/step - loss: 0.7789 - acc: 0.5139\n",
      "Epoch 2/60\n",
      "8/8 [==============================] - 12s 2s/step - loss: 0.7420 - acc: 0.5185\n",
      "Epoch 3/60\n",
      "8/8 [==============================] - 13s 2s/step - loss: 0.7960 - acc: 0.4861\n",
      "Epoch 4/60\n",
      "8/8 [==============================] - 13s 2s/step - loss: 0.7202 - acc: 0.5139\n",
      "Epoch 5/60\n",
      "8/8 [==============================] - 13s 2s/step - loss: 0.7034 - acc: 0.5741\n",
      "Epoch 6/60\n",
      "8/8 [==============================] - 13s 2s/step - loss: 0.6865 - acc: 0.5556\n",
      "Epoch 7/60\n",
      "8/8 [==============================] - 13s 2s/step - loss: 0.7166 - acc: 0.5278\n",
      "Epoch 8/60\n",
      "8/8 [==============================] - 13s 2s/step - loss: 0.6832 - acc: 0.5833\n",
      "Epoch 9/60\n",
      "8/8 [==============================] - 13s 2s/step - loss: 0.6497 - acc: 0.6250\n",
      "Epoch 10/60\n",
      "8/8 [==============================] - 13s 2s/step - loss: 0.6144 - acc: 0.6759\n",
      "Epoch 11/60\n",
      "8/8 [==============================] - 13s 2s/step - loss: 0.5848 - acc: 0.7130\n",
      "Epoch 12/60\n",
      "8/8 [==============================] - 13s 2s/step - loss: 0.6168 - acc: 0.6574\n",
      "Epoch 13/60\n",
      "8/8 [==============================] - 13s 2s/step - loss: 0.5275 - acc: 0.7731\n",
      "Epoch 14/60\n",
      "8/8 [==============================] - 13s 2s/step - loss: 0.5164 - acc: 0.7731\n",
      "Epoch 15/60\n",
      "8/8 [==============================] - 13s 2s/step - loss: 0.4842 - acc: 0.7685\n",
      "Epoch 16/60\n",
      "8/8 [==============================] - 13s 2s/step - loss: 0.4921 - acc: 0.8009\n",
      "Epoch 17/60\n",
      "8/8 [==============================] - 13s 2s/step - loss: 0.4571 - acc: 0.7963\n",
      "Epoch 18/60\n",
      "8/8 [==============================] - 13s 2s/step - loss: 0.4675 - acc: 0.7824\n",
      "Epoch 19/60\n",
      "8/8 [==============================] - 13s 2s/step - loss: 0.4351 - acc: 0.8148\n",
      "Epoch 20/60\n",
      "8/8 [==============================] - 13s 2s/step - loss: 0.3988 - acc: 0.8426\n",
      "Epoch 21/60\n",
      "8/8 [==============================] - 13s 2s/step - loss: 0.3538 - acc: 0.8519\n",
      "Epoch 22/60\n",
      "8/8 [==============================] - 13s 2s/step - loss: 0.3973 - acc: 0.8380\n",
      "Epoch 23/60\n",
      "8/8 [==============================] - 13s 2s/step - loss: 0.4257 - acc: 0.8102\n",
      "Epoch 24/60\n",
      "8/8 [==============================] - 13s 2s/step - loss: 0.3773 - acc: 0.8380\n",
      "Epoch 25/60\n",
      "8/8 [==============================] - 13s 2s/step - loss: 0.3254 - acc: 0.8704\n",
      "Epoch 26/60\n",
      "8/8 [==============================] - 13s 2s/step - loss: 0.3501 - acc: 0.8472\n",
      "Epoch 27/60\n",
      "8/8 [==============================] - 13s 2s/step - loss: 0.2982 - acc: 0.9028\n",
      "Epoch 28/60\n",
      "8/8 [==============================] - 13s 2s/step - loss: 0.2543 - acc: 0.8796\n",
      "Epoch 29/60\n",
      "8/8 [==============================] - 13s 2s/step - loss: 0.2531 - acc: 0.8889\n",
      "Epoch 30/60\n",
      "8/8 [==============================] - 13s 2s/step - loss: 0.2497 - acc: 0.9074\n",
      "Epoch 31/60\n",
      "8/8 [==============================] - 13s 2s/step - loss: 0.2305 - acc: 0.9120\n",
      "Epoch 32/60\n",
      "8/8 [==============================] - 13s 2s/step - loss: 0.2448 - acc: 0.8935\n",
      "Epoch 33/60\n",
      "8/8 [==============================] - 14s 2s/step - loss: 0.2102 - acc: 0.8935\n",
      "Epoch 34/60\n",
      "8/8 [==============================] - 13s 2s/step - loss: 0.2242 - acc: 0.9259\n",
      "Epoch 35/60\n",
      "8/8 [==============================] - 13s 2s/step - loss: 0.1694 - acc: 0.9491\n",
      "Epoch 36/60\n",
      "8/8 [==============================] - 13s 2s/step - loss: 0.2137 - acc: 0.9213\n",
      "Epoch 37/60\n",
      "8/8 [==============================] - 13s 2s/step - loss: 0.1661 - acc: 0.9306\n",
      "Epoch 38/60\n",
      "8/8 [==============================] - 13s 2s/step - loss: 0.2166 - acc: 0.9028\n",
      "Epoch 39/60\n",
      "8/8 [==============================] - 13s 2s/step - loss: 0.1980 - acc: 0.9259\n",
      "Epoch 40/60\n",
      "8/8 [==============================] - 13s 2s/step - loss: 0.2023 - acc: 0.9074\n",
      "Epoch 41/60\n",
      "8/8 [==============================] - 13s 2s/step - loss: 0.1978 - acc: 0.9213\n",
      "Epoch 42/60\n",
      "8/8 [==============================] - 13s 2s/step - loss: 0.1968 - acc: 0.9167\n",
      "Epoch 43/60\n",
      "8/8 [==============================] - 13s 2s/step - loss: 0.1332 - acc: 0.9491\n",
      "Epoch 44/60\n",
      "8/8 [==============================] - 13s 2s/step - loss: 0.1192 - acc: 0.9491\n",
      "Epoch 45/60\n",
      "8/8 [==============================] - 13s 2s/step - loss: 0.2187 - acc: 0.9120\n",
      "Epoch 46/60\n",
      "8/8 [==============================] - 13s 2s/step - loss: 0.2699 - acc: 0.8843\n",
      "Epoch 47/60\n",
      "8/8 [==============================] - 13s 2s/step - loss: 0.1998 - acc: 0.9306\n",
      "Epoch 48/60\n",
      "8/8 [==============================] - 13s 2s/step - loss: 0.2494 - acc: 0.8889\n",
      "Epoch 49/60\n",
      "8/8 [==============================] - 13s 2s/step - loss: 0.1300 - acc: 0.9583\n",
      "Epoch 50/60\n",
      "8/8 [==============================] - 13s 2s/step - loss: 0.1494 - acc: 0.9259\n",
      "Epoch 51/60\n",
      "8/8 [==============================] - 13s 2s/step - loss: 0.1336 - acc: 0.9444\n",
      "Epoch 52/60\n",
      "8/8 [==============================] - 13s 2s/step - loss: 0.1040 - acc: 0.9630\n",
      "Epoch 53/60\n",
      "8/8 [==============================] - 13s 2s/step - loss: 0.1012 - acc: 0.9676\n",
      "Epoch 54/60\n",
      "8/8 [==============================] - 13s 2s/step - loss: 0.1620 - acc: 0.9352\n",
      "Epoch 55/60\n",
      "8/8 [==============================] - 13s 2s/step - loss: 0.1227 - acc: 0.9444\n",
      "Epoch 56/60\n",
      "8/8 [==============================] - 13s 2s/step - loss: 0.1617 - acc: 0.9398\n",
      "Epoch 57/60\n",
      "8/8 [==============================] - 13s 2s/step - loss: 0.0917 - acc: 0.9676\n",
      "Epoch 58/60\n",
      "8/8 [==============================] - 13s 2s/step - loss: 0.1418 - acc: 0.9491\n",
      "Epoch 59/60\n",
      "8/8 [==============================] - 13s 2s/step - loss: 0.1300 - acc: 0.9583\n",
      "Epoch 60/60\n",
      "8/8 [==============================] - 13s 2s/step - loss: 0.0592 - acc: 0.9861\n"
     ]
    },
    {
     "data": {
      "text/plain": [
       "<keras.callbacks.History at 0x7f053d260f60>"
      ]
     },
     "execution_count": 21,
     "metadata": {
      "tags": []
     },
     "output_type": "execute_result"
    }
   ],
   "source": [
    "model_final.fit_generator(\n",
    "train_generator,\n",
    "samples_per_epoch = nb_train_samples,\n",
    "epochs = epochs,\n",
    "#validation_data = validation_generator,\n",
    "#nb_val_samples = nb_validation_samples,\n",
    "#validation_steps=15,\n",
    "callbacks=None)"
   ]
  },
  {
   "cell_type": "code",
   "execution_count": 0,
   "metadata": {
    "colab": {},
    "colab_type": "code",
    "collapsed": true,
    "id": "cg-7IREgehW9"
   },
   "outputs": [],
   "source": [
    "model_final.save('drive/model_oune3.h5')"
   ]
  }
 ],
 "metadata": {
  "accelerator": "GPU",
  "colab": {
   "name": "Untitled3.ipynb",
   "provenance": [],
   "version": "0.3.2"
  },
  "kernelspec": {
   "display_name": "Python 3",
   "language": "python",
   "name": "python3"
  },
  "language_info": {
   "codemirror_mode": {
    "name": "ipython",
    "version": 3
   },
   "file_extension": ".py",
   "mimetype": "text/x-python",
   "name": "python",
   "nbconvert_exporter": "python",
   "pygments_lexer": "ipython3",
   "version": "3.6.3"
  }
 },
 "nbformat": 4,
 "nbformat_minor": 1
}
